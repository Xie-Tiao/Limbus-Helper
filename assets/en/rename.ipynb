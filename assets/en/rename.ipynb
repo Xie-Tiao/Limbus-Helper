{
 "cells": [
  {
   "cell_type": "code",
   "execution_count": 1,
   "metadata": {},
   "outputs": [],
   "source": [
    "import os\n",
    "import shutil\n",
    "\n",
    "# 获取文件夹中的所有文件名\n",
    "file_names = os.listdir('./')\n",
    "\n",
    "# 循环遍历每个文件名\n",
    "for file_name in file_names:\n",
    "    # 分离文件名和扩展名\n",
    "    old_file_name, old_ext = os.path.splitext(file_name)\n",
    "    # 重命名文件\n",
    "    new_file_name = old_file_name.replace('kr', 'en') + old_ext\n",
    "    shutil.move('./' + file_name, './' + new_file_name)"
   ]
  }
 ],
 "metadata": {
  "kernelspec": {
   "display_name": "py310",
   "language": "python",
   "name": "python3"
  },
  "language_info": {
   "codemirror_mode": {
    "name": "ipython",
    "version": 3
   },
   "file_extension": ".py",
   "mimetype": "text/x-python",
   "name": "python",
   "nbconvert_exporter": "python",
   "pygments_lexer": "ipython3",
   "version": "3.9.13"
  }
 },
 "nbformat": 4,
 "nbformat_minor": 2
}
